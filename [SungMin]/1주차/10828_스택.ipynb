{
 "cells": [
  {
   "attachments": {},
   "cell_type": "markdown",
   "metadata": {},
   "source": [
    "문제\n",
    "정수를 저장하는 스택을 구현한 다음, 입력으로 주어지는 명령을 처리하는 프로그램을 작성하시오.\n",
    "\n",
    "명령은 총 다섯 가지이다.\n",
    "\n",
    "    push X: 정수 X를 스택에 넣는 연산이다.\n",
    "    pop: 스택에서 가장 위에 있는 정수를 빼고, 그 수를 출력한다. 만약 스택에 들어있는 정수가 없는 경우에는 -1을 출력한다.\n",
    "    size: 스택에 들어있는 정수의 개수를 출력한다.\n",
    "    empty: 스택이 비어있으면 1, 아니면 0을 출력한다.\n",
    "    top: 스택의 가장 위에 있는 정수를 출력한다. 만약 스택에 들어있는 정수가 없는 경우에는 -1을 출력한다.\n"
   ]
  },
  {
   "cell_type": "code",
   "execution_count": null,
   "metadata": {},
   "outputs": [],
   "source": [
    "import sys\n",
    "\n",
    "sys.stdin=open(\"./10828.txt\")\n",
    "\n",
    "#input()함수 쓰면 runtime error\n",
    "input_num=int(sys.stdin.readline())\n",
    "stack=[]\n",
    "\n",
    "#처음 숫자가 input shape 임.\n",
    "for i in range(input_num):\n",
    "    line=sys.stdin.readline().split()\n",
    "    command=line[0]\n",
    "\n",
    "    #line[0]은 명령어, line[1]은 변수의 값\n",
    "    #split을 통해 변수와 명령어를 분리\n",
    "\n",
    "    if command==\"push\":\n",
    "        stack.append(line[1])\n",
    "    \n",
    "    elif command==\"pop\":\n",
    "        if len(stack)==0:\n",
    "            print(-1)\n",
    "        else:\n",
    "            num=len(stack)\n",
    "            print(stack.pop())\n",
    "            \n",
    "    \n",
    "    elif command==\"size\":\n",
    "        print(len(stack))\n",
    "\n",
    "    elif command==\"empty\":\n",
    "        if len(stack)==0:\n",
    "            print(1)\n",
    "        else:\n",
    "            print(0)\n",
    "    \n",
    "    elif command==\"top\":\n",
    "        if len(stack)==0:\n",
    "            print(-1)\n",
    "        else:\n",
    "            num=len(stack)\n",
    "            print(stack[num-1])\n",
    "    "
   ]
  }
 ],
 "metadata": {
  "kernelspec": {
   "display_name": "DRCL",
   "language": "python",
   "name": "python3"
  },
  "language_info": {
   "codemirror_mode": {
    "name": "ipython",
    "version": 3
   },
   "file_extension": ".py",
   "mimetype": "text/x-python",
   "name": "python",
   "nbconvert_exporter": "python",
   "pygments_lexer": "ipython3",
   "version": "3.6.15 (default, Dec  3 2021, 18:25:24) [MSC v.1916 64 bit (AMD64)]"
  },
  "orig_nbformat": 4,
  "vscode": {
   "interpreter": {
    "hash": "dd739681912e4ba1f283301ca45f84479c2df1d584e52b59f79b73dc01f44cf4"
   }
  }
 },
 "nbformat": 4,
 "nbformat_minor": 2
}
