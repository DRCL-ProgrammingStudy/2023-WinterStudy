{
 "cells": [
  {
   "attachments": {},
   "cell_type": "markdown",
   "metadata": {},
   "source": [
    "문제\n",
    "정수를 저장하는 큐를 구현한 다음, 입력으로 주어지는 명령을 처리하는 프로그램을 작성하시오.\n",
    "\n",
    "명령은 총 여섯 가지이다.\n",
    "\n",
    "    push X: 정수 X를 큐에 넣는 연산이다.\n",
    "    pop: 큐에서 가장 앞에 있는 정수를 빼고, 그 수를 출력한다. 만약 큐에 들어있는 정수가 없는 경우에는 -1을 출력한다.\n",
    "    size: 큐에 들어있는 정수의 개수를 출력한다.\n",
    "    empty: 큐가 비어있으면 1, 아니면 0을 출력한다.\n",
    "    front: 큐의 가장 앞에 있는 정수를 출력한다. 만약 큐에 들어있는 정수가 없는 경우에는 -1을 출력한다.\n",
    "    back: 큐의 가장 뒤에 있는 정수를 출력한다. 만약 큐에 들어있는 정수가 없는 경우에는 -1을 출력한다."
   ]
  },
  {
   "cell_type": "code",
   "execution_count": null,
   "metadata": {},
   "outputs": [],
   "source": [
    "import sys\n",
    "\n",
    "sys.stdin=open(\"./data/10845.txt\")\n",
    "\n",
    "input_num = int(sys.stdin.readline())\n",
    "Q = []\n",
    "for i in range(input_num):\n",
    "    line=sys.stdin.readline().split()\n",
    "\n",
    "    if line[0] =='push': \n",
    "        Q.append(line[1])\n",
    "\n",
    "    elif line[0] == 'pop': \n",
    "        if Q:\n",
    "            print(Q.pop(0))\n",
    "        else: \n",
    "            print(-1)\n",
    "\n",
    "    elif line[0]=='size': \n",
    "        print(len(Q))\n",
    "\n",
    "    elif line[0]=='empty':\n",
    "        if len(Q)==0:\n",
    "            print(1)\n",
    "        else:\n",
    "            print(0)\n",
    "            \n",
    "    elif line[0]=='front':\n",
    "        if len(Q)==0:\n",
    "            print(-1)\n",
    "        else: \n",
    "            print(Q[0])\n",
    "    \n",
    "    elif line[0] == 'back' :\n",
    "        if len(Q) == 0: \n",
    "            print(-1)\n",
    "        else:\n",
    "            print(Q[-1])"
   ]
  }
 ],
 "metadata": {
  "kernelspec": {
   "display_name": "DRCL",
   "language": "python",
   "name": "python3"
  },
  "language_info": {
   "codemirror_mode": {
    "name": "ipython",
    "version": 3
   },
   "file_extension": ".py",
   "mimetype": "text/x-python",
   "name": "python",
   "nbconvert_exporter": "python",
   "pygments_lexer": "ipython3",
   "version": "3.6.15 (default, Dec  3 2021, 18:25:24) [MSC v.1916 64 bit (AMD64)]"
  },
  "orig_nbformat": 4,
  "vscode": {
   "interpreter": {
    "hash": "dd739681912e4ba1f283301ca45f84479c2df1d584e52b59f79b73dc01f44cf4"
   }
  }
 },
 "nbformat": 4,
 "nbformat_minor": 2
}
