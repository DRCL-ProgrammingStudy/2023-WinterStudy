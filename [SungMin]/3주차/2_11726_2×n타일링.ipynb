{
 "cells": [
  {
   "attachments": {},
   "cell_type": "markdown",
   "metadata": {},
   "source": [
    "# 문제\n",
    "2×n 크기의 직사각형을 1×2, 2×1 타일로 채우는 방법의 수를 구하는 프로그램을 작성하시오.\n",
    "\n",
    "아래 그림은 2×5 크기의 직사각형을 채운 한 가지 방법의 예이다.\n",
    "![2x5](\"/home/seongmin/workspace/code-study/11726.png\")\n",
    "\n",
    "\n",
    "# 입력\n",
    "첫째 줄에 n이 주어진다. (1 ≤ n ≤ 1,000)\n",
    "\n",
    "# 출력\n",
    "첫째 줄에 2×n 크기의 직사각형을 채우는 방법의 수를 10,007로 나눈 나머지를 출력한다."
   ]
  },
  {
   "cell_type": "code",
   "execution_count": 23,
   "metadata": {},
   "outputs": [
    {
     "name": "stdout",
     "output_type": "stream",
     "text": [
      "1\n",
      "2\n",
      "3\n",
      "5\n",
      "8\n",
      "13\n",
      "21\n",
      "34\n",
      "55\n",
      "89\n",
      "144\n",
      "233\n",
      "377\n",
      "610\n"
     ]
    },
    {
     "ename": "ValueError",
     "evalue": "invalid literal for int() with base 10: ''",
     "output_type": "error",
     "traceback": [
      "\u001b[0;31m---------------------------------------------------------------------------\u001b[0m",
      "\u001b[0;31mValueError\u001b[0m                                Traceback (most recent call last)",
      "Cell \u001b[0;32mIn[23], line 6\u001b[0m\n\u001b[1;32m      3\u001b[0m sys\u001b[39m.\u001b[39mstdin\u001b[39m=\u001b[39m\u001b[39mopen\u001b[39m(\u001b[39m\"\u001b[39m\u001b[39m./data/11726.txt\u001b[39m\u001b[39m\"\u001b[39m)\n\u001b[1;32m      5\u001b[0m \u001b[39mwhile\u001b[39;00m(\u001b[39mTrue\u001b[39;00m):\n\u001b[0;32m----> 6\u001b[0m     data\u001b[39m=\u001b[39m\u001b[39mint\u001b[39;49m(sys\u001b[39m.\u001b[39;49mstdin\u001b[39m.\u001b[39;49mreadline())\n\u001b[1;32m      7\u001b[0m     d\u001b[39m=\u001b[39m[\u001b[39m0\u001b[39m]\u001b[39m*\u001b[39m(data\u001b[39m+\u001b[39m\u001b[39m1\u001b[39m)\n\u001b[1;32m      9\u001b[0m     \u001b[39mif\u001b[39;00m data\u001b[39m>\u001b[39m\u001b[39m=\u001b[39m\u001b[39m1\u001b[39m:\n",
      "\u001b[0;31mValueError\u001b[0m: invalid literal for int() with base 10: ''"
     ]
    }
   ],
   "source": [
    "import sys\n",
    "\n",
    "data=int(sys.stdin.readline())\n",
    "d=[0]*(data+1)\n",
    "\n",
    "if data>=1:\n",
    "    d[1]=1\n",
    "\n",
    "if data>=2:\n",
    "    d[2]=2\n",
    "\n",
    "\n",
    "if data>=3:    \n",
    "    for i in range(3, data+1):\n",
    "        d[i]=d[i-1]+d[i-2]\n",
    "\n",
    "\n",
    "print(d[data]%10007)\n",
    "    \n",
    "        \n",
    "\n",
    "\n",
    "            \n",
    "\n",
    "    \n",
    "    \n"
   ]
  },
  {
   "cell_type": "code",
   "execution_count": 21,
   "metadata": {},
   "outputs": [
    {
     "name": "stdout",
     "output_type": "stream",
     "text": [
      "1\n",
      "2\n",
      "3\n",
      "5\n",
      "8\n",
      "13\n",
      "21\n",
      "34\n",
      "55\n",
      "89\n",
      "144\n",
      "233\n",
      "377\n",
      "610\n"
     ]
    },
    {
     "ename": "ValueError",
     "evalue": "invalid literal for int() with base 10: ''",
     "output_type": "error",
     "traceback": [
      "\u001b[0;31m---------------------------------------------------------------------------\u001b[0m",
      "\u001b[0;31mValueError\u001b[0m                                Traceback (most recent call last)",
      "Cell \u001b[0;32mIn[21], line 6\u001b[0m\n\u001b[1;32m      3\u001b[0m sys\u001b[39m.\u001b[39mstdin\u001b[39m=\u001b[39m\u001b[39mopen\u001b[39m(\u001b[39m\"\u001b[39m\u001b[39m./data/11726.txt\u001b[39m\u001b[39m\"\u001b[39m)\n\u001b[1;32m      5\u001b[0m \u001b[39mwhile\u001b[39;00m(\u001b[39mTrue\u001b[39;00m):\n\u001b[0;32m----> 6\u001b[0m     data\u001b[39m=\u001b[39m\u001b[39mint\u001b[39;49m(sys\u001b[39m.\u001b[39;49mstdin\u001b[39m.\u001b[39;49mreadline())\n\u001b[1;32m      7\u001b[0m     cache \u001b[39m=\u001b[39m [\u001b[39m0\u001b[39m]\u001b[39m*\u001b[39m\u001b[39m1001\u001b[39m\n\u001b[1;32m      8\u001b[0m     \u001b[39m# n이 1,2인 경우는 명확하니까 미리 선언해둔다.\u001b[39;00m\n",
      "\u001b[0;31mValueError\u001b[0m: invalid literal for int() with base 10: ''"
     ]
    }
   ],
   "source": [
    "import sys\n",
    "\n",
    "sys.stdin=open(\"./data/11726.txt\")\n",
    "\n",
    "while(True):\n",
    "    data=int(sys.stdin.readline())\n",
    "    cache = [0]*1001\n",
    "    # n이 1,2인 경우는 명확하니까 미리 선언해둔다.\n",
    "    cache[1]=1\n",
    "    cache[2]=2\n",
    "    # dynamic programming\n",
    "    for i in range(3,1001):\n",
    "        cache[i] = (cache[i-1]+cache[i-2])%10007\n",
    "\n",
    "    print(cache[data])"
   ]
  },
  {
   "cell_type": "code",
   "execution_count": null,
   "metadata": {},
   "outputs": [],
   "source": []
  }
 ],
 "metadata": {
  "kernelspec": {
   "display_name": "DRCL",
   "language": "python",
   "name": "python3"
  },
  "language_info": {
   "codemirror_mode": {
    "name": "ipython",
    "version": 3
   },
   "file_extension": ".py",
   "mimetype": "text/x-python",
   "name": "python",
   "nbconvert_exporter": "python",
   "pygments_lexer": "ipython3",
   "version": "3.8.13 (default, Mar 28 2022, 11:38:47) \n[GCC 7.5.0]"
  },
  "orig_nbformat": 4,
  "vscode": {
   "interpreter": {
    "hash": "d3872fffad06d57bca8775bbd7ab5500209dede731ee77960e50f4cf347636dd"
   }
  }
 },
 "nbformat": 4,
 "nbformat_minor": 2
}
