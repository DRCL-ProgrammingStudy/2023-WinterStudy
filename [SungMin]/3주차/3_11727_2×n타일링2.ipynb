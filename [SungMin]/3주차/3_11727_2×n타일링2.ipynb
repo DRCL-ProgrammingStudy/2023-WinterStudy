{
 "cells": [
  {
   "attachments": {},
   "cell_type": "markdown",
   "metadata": {},
   "source": [
    "# 문제\n",
    "2×n 직사각형을 1×2, 2×1과 2×2 타일로 채우는 방법의 수를 구하는 프로그램을 작성하시오.\n",
    "\n",
    "아래 그림은 2×17 직사각형을 채운 한가지 예이다.\n",
    "\n",
    "# 입력\n",
    "첫째 줄에 n이 주어진다. (1 ≤ n ≤ 1,000)\n",
    "\n",
    "# 출력\n",
    "첫째 줄에 2×n 크기의 직사각형을 채우는 방법의 수를 10,007로 나눈 나머지를 출력한다."
   ]
  },
  {
   "cell_type": "code",
   "execution_count": 18,
   "metadata": {},
   "outputs": [
    {
     "name": "stdout",
     "output_type": "stream",
     "text": [
      "1365\n",
      "1365\n"
     ]
    }
   ],
   "source": [
    "import sys\n",
    "sys.stdin=open(\"./data/11727.txt\")\n",
    "data=int(sys.stdin.readline())\n",
    "d=[1]*1001\n",
    "d[1]=1\n",
    "d[2]=3\n",
    "\n",
    "if data%2==0:\n",
    "    num=8\n",
    "    for i in range(4,data+1,2):\n",
    "        d[i]=d[i-2]+num\n",
    "        num=num*4\n",
    "\n",
    "\n",
    "    \n",
    "\n",
    "num=4\n",
    "for i in range(3,data+1,2):\n",
    "    d[i]=d[i-2]+num\n",
    "    num=num*4\n",
    "\n",
    "\n",
    "print(d[data])\n",
    "print(d[data]%10007)"
   ]
  },
  {
   "cell_type": "code",
   "execution_count": 2,
   "metadata": {},
   "outputs": [
    {
     "name": "stdout",
     "output_type": "stream",
     "text": [
      "2\n",
      "4\n",
      "6\n",
      "8\n",
      "10\n"
     ]
    }
   ],
   "source": [
    "for i in range(2,10+1,2):\n",
    "    print(i)"
   ]
  },
  {
   "cell_type": "code",
   "execution_count": null,
   "metadata": {},
   "outputs": [],
   "source": []
  }
 ],
 "metadata": {
  "kernelspec": {
   "display_name": "smart-city",
   "language": "python",
   "name": "python3"
  },
  "language_info": {
   "codemirror_mode": {
    "name": "ipython",
    "version": 3
   },
   "file_extension": ".py",
   "mimetype": "text/x-python",
   "name": "python",
   "nbconvert_exporter": "python",
   "pygments_lexer": "ipython3",
   "version": "3.6.13 |Anaconda, Inc.| (default, Jun  4 2021, 14:25:59) \n[GCC 7.5.0]"
  },
  "orig_nbformat": 4,
  "vscode": {
   "interpreter": {
    "hash": "481cbd1f6dee0ddd24d2f4fe87763df7cab7dc1942d8e09191f79374fb7d1d53"
   }
  }
 },
 "nbformat": 4,
 "nbformat_minor": 2
}
