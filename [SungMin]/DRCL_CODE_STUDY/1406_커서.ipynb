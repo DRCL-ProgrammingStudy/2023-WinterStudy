{
 "cells": [
  {
   "attachments": {},
   "cell_type": "markdown",
   "metadata": {},
   "source": [
    "문제\n",
    "한 줄로 된 간단한 에디터를 구현하려고 한다. 이 편집기는 영어 소문자만을 기록할 수 있는 편집기로, 최대 600,000글자까지 입력할 수 있다.\n",
    "\n",
    "이 편집기에는 '커서'라는 것이 있는데, 커서는 문장의 맨 앞(첫 번째 문자의 왼쪽), 문장의 맨 뒤(마지막 문자의 오른쪽), 또는 문장 중간 임의의 곳(모든 연속된 두 문자 사이)에 위치할 수 있다. 즉 길이가 L인 문자열이 현재 편집기에 입력되어 있으면, 커서가 위치할 수 있는 곳은 L+1가지 경우가 있다.\n",
    "\n",
    "이 편집기가 지원하는 명령어는 다음과 같다.\n",
    "\n",
    "    L\t커서를 왼쪽으로 한 칸 옮김 (커서가 문장의 맨 앞이면 무시됨)\n",
    "    D\t커서를 오른쪽으로 한 칸 옮김 (커서가 문장의 맨 뒤이면 무시됨)\n",
    "    B\t커서 왼쪽에 있는 문자를 삭제함 (커서가 문장의 맨 앞이면 무시됨)\n",
    "\n",
    "삭제로 인해 커서는 한 칸 왼쪽으로 이동한 것처럼 나타나지만, 실제로 커서의 오른쪽에 있던 문자는 그대로임\n",
    "\n",
    "P $\t$라는 문자를 커서 왼쪽에 추가함\n",
    "\n",
    "초기에 편집기에 입력되어 있는 문자열이 주어지고, 그 이후 입력한 명령어가 차례로 주어졌을 때, 모든 명령어를 수행하고 난 후 편집기에 입력되어 있는 문자열을 구하는 프로그램을 작성하시오. 단, 명령어가 수행되기 전에 커서는 문장의 맨 뒤에 위치하고 있다고 한다."
   ]
  },
  {
   "cell_type": "code",
   "execution_count": null,
   "metadata": {},
   "outputs": [],
   "source": [
    "import sys\n",
    "\n",
    "sys.stdin=open(\"./1406.txt\")\n",
    "L=list(sys.stdin.readline().rstrip())\n",
    "R=[]\n",
    "input_num=int(sys.stdin.readline())\n",
    "\n",
    "for i in range(input_num):\n",
    "    command=list(sys.stdin.readline().split())\n",
    "    \n",
    "    if command[0]==\"L\" and len(L)!=0:\n",
    "        R.append(L.pop())\n",
    "    elif command[0]==\"D\" and len(R)!=0:\n",
    "        L.append(R.pop())\n",
    "    elif command[0]==\"B\" and len(L)!=0:\n",
    "        L.pop()\n",
    "    elif command[0]==\"P\":\n",
    "        L.append(command[1])\n",
    "    \n",
    "print(\"\".join(L + list(reversed(R))))\n"
   ]
  }
 ],
 "metadata": {
  "kernelspec": {
   "display_name": "DRCL",
   "language": "python",
   "name": "python3"
  },
  "language_info": {
   "codemirror_mode": {
    "name": "ipython",
    "version": 3
   },
   "file_extension": ".py",
   "mimetype": "text/x-python",
   "name": "python",
   "nbconvert_exporter": "python",
   "pygments_lexer": "ipython3",
   "version": "3.6.15 (default, Dec  3 2021, 18:25:24) [MSC v.1916 64 bit (AMD64)]"
  },
  "orig_nbformat": 4,
  "vscode": {
   "interpreter": {
    "hash": "dd739681912e4ba1f283301ca45f84479c2df1d584e52b59f79b73dc01f44cf4"
   }
  }
 },
 "nbformat": 4,
 "nbformat_minor": 2
}
