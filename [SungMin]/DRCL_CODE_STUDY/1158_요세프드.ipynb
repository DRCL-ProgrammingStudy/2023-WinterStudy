{
 "cells": [
  {
   "attachments": {},
   "cell_type": "markdown",
   "metadata": {},
   "source": [
    "요세푸스 문제는 다음과 같다.\n",
    "\n",
    "1번부터 N번까지 N명의 사람이 원을 이루면서 앉아있고, 양의 정수 K(≤ N)가 주어진다. 이제 순서대로 K번째 사람을 제거한다. 한 사람이 제거되면 남은 사람들로 이루어진 원을 따라 이 과정을 계속해 나간다. 이 과정은 N명의 사람이 모두 제거될 때까지 계속된다. 원에서 사람들이 제거되는 순서를 (N, K)-요세푸스 순열이라고 한다. 예를 들어 (7, 3)-요세푸스 순열은 <3, 6, 2, 7, 5, 1, 4>이다.\n",
    "\n",
    "N과 K가 주어지면 (N, K)-요세푸스 순열을 구하는 프로그램을 작성하시오."
   ]
  },
  {
   "cell_type": "code",
   "execution_count": null,
   "metadata": {},
   "outputs": [],
   "source": [
    "import sys\n",
    "\n",
    "sys.stdin=open(\"./1158.txt\")\n",
    "\n",
    "n, k = map(int,sys.stdin.readline().split(\" \"))\n",
    "q=[]\n",
    "\n",
    "for i in range(1,n+1):\n",
    "    q.append(i)\n",
    "\n",
    "result = []\n",
    "num = 0\n",
    "\n",
    "for i in range(n):\n",
    "    num += k-1\n",
    "    if num >= len(q):\n",
    "        num = (num)%len(q)\n",
    "    result.append(str(q.pop(num)))\n",
    "print(\"<\", \", \".join(result), \">\",sep='')"
   ]
  }
 ],
 "metadata": {
  "kernelspec": {
   "display_name": "DRCL",
   "language": "python",
   "name": "python3"
  },
  "language_info": {
   "codemirror_mode": {
    "name": "ipython",
    "version": 3
   },
   "file_extension": ".py",
   "mimetype": "text/x-python",
   "name": "python",
   "nbconvert_exporter": "python",
   "pygments_lexer": "ipython3",
   "version": "3.6.15 (default, Dec  3 2021, 18:25:24) [MSC v.1916 64 bit (AMD64)]"
  },
  "orig_nbformat": 4,
  "vscode": {
   "interpreter": {
    "hash": "dd739681912e4ba1f283301ca45f84479c2df1d584e52b59f79b73dc01f44cf4"
   }
  }
 },
 "nbformat": 4,
 "nbformat_minor": 2
}
