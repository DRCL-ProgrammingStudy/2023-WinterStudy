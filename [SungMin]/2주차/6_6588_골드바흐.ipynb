{
 "cells": [
  {
   "attachments": {},
   "cell_type": "markdown",
   "metadata": {},
   "source": [
    "# 문제\n",
    "1742년, 독일의 아마추어 수학가 크리스티안 골드바흐는 레온하르트 오일러에게 다음과 같은 추측을 제안하는 편지를 보냈다.\n",
    "\n",
    "4보다 큰 모든 짝수는 두 홀수 소수의 합으로 나타낼 수 있다.\n",
    "예를 들어 8은 3 + 5로 나타낼 수 있고, 3과 5는 모두 홀수인 소수이다. 또, 20 = 3 + 17 = 7 + 13, 42 = 5 + 37 = 11 + 31 = 13 + 29 = 19 + 23 이다.\n",
    "\n",
    "이 추측은 아직도 해결되지 않은 문제이다.\n",
    "\n",
    "백만 이하의 모든 짝수에 대해서, 이 추측을 검증하는 프로그램을 작성하시오.\n",
    "\n",
    "# 입력\n",
    "입력은 하나 또는 그 이상의 테스트 케이스로 이루어져 있다. 테스트 케이스의 개수는 100,000개를 넘지 않는다.\n",
    "\n",
    "각 테스트 케이스는 짝수 정수 n 하나로 이루어져 있다. (6 ≤ n ≤ 1000000)\n",
    "\n",
    "입력의 마지막 줄에는 0이 하나 주어진다.\n",
    "\n",
    "# 출력\n",
    "각 테스트 케이스에 대해서, n = a + b 형태로 출력한다. 이때, a와 b는 홀수 소수이다. 숫자와 연산자는 공백 하나로 구분되어져 있다. 만약, n을 만들 수 있는 방법이 여러 가지라면, b-a가 가장 큰 것을 출력한다. 또, 두 홀수 소수의 합으로 n을 나타낼 수 없는 경우에는 \"Goldbach's conjecture is wrong.\"을 출력한다."
   ]
  },
  {
   "cell_type": "code",
   "execution_count": 28,
   "metadata": {},
   "outputs": [
    {
     "name": "stdout",
     "output_type": "stream",
     "text": [
      "8 = 3 + 5\n",
      "20 = 3 + 17\n",
      "42 = 5 + 37\n"
     ]
    }
   ],
   "source": [
    "import sys\n",
    "import math\n",
    "\n",
    "sys.stdin=open(\"./data/6588.txt\")\n",
    "from sys import stdin\n",
    "\n",
    "array = [True for i in range(1000001)]\n",
    "\n",
    "for i in range(2, 1001):\n",
    "    if array[i]:\n",
    "        for k in range(i + i, 1000001, i):\n",
    "            array[k] = False\n",
    "\n",
    "while True:\n",
    "    n = int(stdin.readline())\n",
    "\n",
    "    if n == 0: break\n",
    "\n",
    "    for i in range(3, len(array)):\n",
    "        if array[i] and array[n-i]:\n",
    "            print(n, \"=\", i, \"+\", n-i)\n",
    "            break"
   ]
  },
  {
   "cell_type": "code",
   "execution_count": null,
   "metadata": {},
   "outputs": [],
   "source": []
  },
  {
   "cell_type": "code",
   "execution_count": null,
   "metadata": {},
   "outputs": [],
   "source": []
  }
 ],
 "metadata": {
  "kernelspec": {
   "display_name": "smart-city",
   "language": "python",
   "name": "python3"
  },
  "language_info": {
   "codemirror_mode": {
    "name": "ipython",
    "version": 3
   },
   "file_extension": ".py",
   "mimetype": "text/x-python",
   "name": "python",
   "nbconvert_exporter": "python",
   "pygments_lexer": "ipython3",
   "version": "3.6.13"
  },
  "orig_nbformat": 4,
  "vscode": {
   "interpreter": {
    "hash": "481cbd1f6dee0ddd24d2f4fe87763df7cab7dc1942d8e09191f79374fb7d1d53"
   }
  }
 },
 "nbformat": 4,
 "nbformat_minor": 2
}
