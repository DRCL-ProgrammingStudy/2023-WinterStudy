{
 "cells": [
  {
   "attachments": {},
   "cell_type": "markdown",
   "metadata": {},
   "source": [
    "# 문제\n",
    "두 개의 자연수를 입력받아 최대 공약수와 최소 공배수를 출력하는 프로그램을 작성하시오.\n",
    "\n",
    "# 입력\n",
    "첫째 줄에는 두 개의 자연수가 주어진다. 이 둘은 10,000이하의 자연수이며 사이에 한 칸의 공백이 주어진다.\n",
    "\n",
    "# 출력\n",
    "첫째 줄에는 입력으로 주어진 두 수의 최대공약수를, 둘째 줄에는 입력으로 주어진 두 수의 최소 공배수를 출력한다."
   ]
  },
  {
   "cell_type": "code",
   "execution_count": 33,
   "metadata": {},
   "outputs": [
    {
     "name": "stdout",
     "output_type": "stream",
     "text": [
      "6\n",
      "72\n"
     ]
    }
   ],
   "source": [
    "import sys\n",
    "\n",
    "\n",
    "sys.stdin=open(\"./2주차/data/2609.txt\")\n",
    "input=sys.stdin.readline().split()\n",
    "\n",
    "num_1=int(input[0])\n",
    "num_2=int(input[1])\n",
    "num_1_list=[]\n",
    "num_2_list=[]\n",
    "num_list=[]\n",
    "k=1\n",
    "flag=0\n",
    "\n",
    "for i in range(max(num_1,num_2)):\n",
    "    i=int(i+1)\n",
    "    if num_1%i==0:\n",
    "        num_1_list.append(i)\n",
    "    if num_2%i==0:\n",
    "        num_2_list.append(i)\n",
    "\n",
    "\n",
    "\n",
    "for i in range(len(num_1_list)):\n",
    "    for j in range(len(num_2_list)):\n",
    "        if num_1_list[i]==num_2_list[j]:\n",
    "            num_list.append(num_2_list[j])\n",
    "\n",
    "print(max(num_list))\n",
    "\n",
    "\n",
    "print(int(num_1*num_2/max(num_list)))\n",
    "\n",
    "\n"
   ]
  },
  {
   "cell_type": "code",
   "execution_count": null,
   "metadata": {},
   "outputs": [],
   "source": []
  },
  {
   "cell_type": "code",
   "execution_count": null,
   "metadata": {},
   "outputs": [],
   "source": []
  }
 ],
 "metadata": {
  "kernelspec": {
   "display_name": "smart-city",
   "language": "python",
   "name": "python3"
  },
  "language_info": {
   "codemirror_mode": {
    "name": "ipython",
    "version": 3
   },
   "file_extension": ".py",
   "mimetype": "text/x-python",
   "name": "python",
   "nbconvert_exporter": "python",
   "pygments_lexer": "ipython3",
   "version": "3.6.13 |Anaconda, Inc.| (default, Jun  4 2021, 14:25:59) \n[GCC 7.5.0]"
  },
  "orig_nbformat": 4,
  "vscode": {
   "interpreter": {
    "hash": "481cbd1f6dee0ddd24d2f4fe87763df7cab7dc1942d8e09191f79374fb7d1d53"
   }
  }
 },
 "nbformat": 4,
 "nbformat_minor": 2
}
