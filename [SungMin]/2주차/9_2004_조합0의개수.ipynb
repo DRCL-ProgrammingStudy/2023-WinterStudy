{
 "cells": [
  {
   "attachments": {},
   "cell_type": "markdown",
   "metadata": {},
   "source": [
    "# 문제\n",
    " \n",
    "$n \\choose m$의 끝자리 $0$의 개수를 출력하는 프로그램을 작성하시오.\n",
    "\n",
    "# 입력\n",
    "첫째 줄에 정수 $n$, $m$ ($0 \\le m \\le n \\le 2,000,000,000$, $n \\ne 0$)이 들어온다.\n",
    "\n",
    "# 출력\n",
    "첫째 줄에 \n",
    "$n \\choose m$의 끝자리 $0$의 개수를 출력한다."
   ]
  },
  {
   "cell_type": "code",
   "execution_count": null,
   "metadata": {},
   "outputs": [],
   "source": [
    "import sys\n",
    "\n",
    "sys.stdin=open(."\data\123.txt\")\n",
    "n,m=map(int,sys.stdin.readline().split())\n",
    "\n",
    "n_pec=1\n",
    "m_pec=1\n",
    "n_m_pec=1\n",
    "result=0\n",
    "count=0\n",
    "\n",
    "for i in range(n,0,-1):\n",
    "    n_pec=n_pec*i\n",
    "\n",
    "for i in range(m,0,-1):\n",
    "    m_pec=m_pec*i\n",
    "\n",
    "for i in range(n-m,0,-1):\n",
    "    n_m_pec=n_m_pec*i\n",
    "\n",
    "result=int(n_pec/(m_pec*n_m_pec))\n",
    "result = list(map(int, str(result)))\n",
    "\n",
    "while(True):\n",
    "    if result[len(result)-1]==0:\n",
    "        \n",
    "        result.pop()\n",
    "        count+=1\n",
    "\n",
    "    else:\n",
    "        break\n",
    "\n",
    "print(count)\n",
    "\n",
    "\n"
   ]
  },
  {
   "cell_type": "code",
   "execution_count": null,
   "metadata": {},
   "outputs": [],
   "source": []
  }
 ],
 "metadata": {
  "kernelspec": {
   "display_name": "DRCL",
   "language": "python",
   "name": "python3"
  },
  "language_info": {
   "codemirror_mode": {
    "name": "ipython",
    "version": 3
   },
   "file_extension": ".py",
   "mimetype": "text/x-python",
   "name": "python",
   "nbconvert_exporter": "python",
   "pygments_lexer": "ipython3",
   "version": "3.6.15 (default, Dec  3 2021, 18:25:24) [MSC v.1916 64 bit (AMD64)]"
  },
  "orig_nbformat": 4,
  "vscode": {
   "interpreter": {
    "hash": "dd739681912e4ba1f283301ca45f84479c2df1d584e52b59f79b73dc01f44cf4"
   }
  }
 },
 "nbformat": 4,
 "nbformat_minor": 2
}
