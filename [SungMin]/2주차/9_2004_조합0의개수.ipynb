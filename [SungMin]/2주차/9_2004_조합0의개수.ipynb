{
 "cells": [
  {
   "attachments": {},
   "cell_type": "markdown",
   "metadata": {},
   "source": [
    "# 문제\n",
    " \n",
    "$n \\choose m$의 끝자리 $0$의 개수를 출력하는 프로그램을 작성하시오.\n",
    "\n",
    "# 입력\n",
    "첫째 줄에 정수 $n$, $m$ ($0 \\le m \\le n \\le 2,000,000,000$, $n \\ne 0$)이 들어온다.\n",
    "\n",
    "# 출력\n",
    "첫째 줄에 \n",
    "$n \\choose m$의 끝자리 $0$의 개수를 출력한다."
   ]
  },
  {
   "cell_type": "code",
   "execution_count": 25,
   "metadata": {},
   "outputs": [
    {
     "name": "stdout",
     "output_type": "stream",
     "text": [
      "[3, 6, 2, 8, 8, 0]\n",
      "[3, 6, 2, 8, 8]\n",
      "2\n"
     ]
    }
   ],
   "source": []
  },
  {
   "cell_type": "code",
   "execution_count": null,
   "metadata": {},
   "outputs": [],
   "source": []
  },
  {
   "cell_type": "code",
   "execution_count": null,
   "metadata": {},
   "outputs": [],
   "source": []
  },
  {
   "cell_type": "code",
   "execution_count": null,
   "metadata": {},
   "outputs": [],
   "source": []
  }
 ],
 "metadata": {
  "kernelspec": {
   "display_name": "smart-city",
   "language": "python",
   "name": "python3"
  },
  "language_info": {
   "codemirror_mode": {
    "name": "ipython",
    "version": 3
   },
   "file_extension": ".py",
   "mimetype": "text/x-python",
   "name": "python",
   "nbconvert_exporter": "python",
   "pygments_lexer": "ipython3",
   "version": "3.6.13 |Anaconda, Inc.| (default, Jun  4 2021, 14:25:59) \n[GCC 7.5.0]"
  },
  "orig_nbformat": 4,
  "vscode": {
   "interpreter": {
    "hash": "481cbd1f6dee0ddd24d2f4fe87763df7cab7dc1942d8e09191f79374fb7d1d53"
   }
  }
 },
 "nbformat": 4,
 "nbformat_minor": 2
}
