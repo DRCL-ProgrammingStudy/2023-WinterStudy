{
 "cells": [
  {
   "cell_type": "markdown",
   "id": "ed248fcc",
   "metadata": {},
   "source": [
    "## 문제 https://www.acmicpc.net/problem/1874"
   ]
  },
  {
   "cell_type": "code",
   "execution_count": 12,
   "id": "f97dea43",
   "metadata": {},
   "outputs": [
    {
     "name": "stdout",
     "output_type": "stream",
     "text": [
      "8\n",
      "4\n",
      "[1, 2, 3]\n",
      "3\n",
      "[1, 2]\n",
      "6\n",
      "[1, 2, 5]\n",
      "8\n",
      "[1, 2, 5, 7]\n",
      "7\n",
      "[1, 2, 5]\n",
      "5\n",
      "[1, 2]\n",
      "2\n",
      "[1]\n",
      "1\n",
      "[]\n",
      "+\n",
      "+\n",
      "+\n",
      "+\n",
      "-\n",
      "-\n",
      "+\n",
      "+\n",
      "-\n",
      "+\n",
      "+\n",
      "-\n",
      "-\n",
      "-\n",
      "-\n",
      "-\n"
     ]
    }
   ],
   "source": [
    "import sys\n",
    "\n",
    "cmd_num = int(sys.stdin.readline())\n",
    "\n",
    "count = 0\n",
    "stack = []\n",
    "\n",
    "output_list = []\n",
    "\n",
    "for i in range(cmd_num):\n",
    "    num = int(sys.stdin.readline())\n",
    "    \n",
    "    while count < num:\n",
    "        count += 1\n",
    "        stack.append(count)\n",
    "        output_list.append('+')\n",
    "        \n",
    "    if num == stack[-1]:\n",
    "        stack.pop()\n",
    "        output_list.append('-')\n",
    "    \n",
    "\n",
    "if len(stack) == 0:\n",
    "       for i in output_list:\n",
    "            print(i)\n",
    "\n",
    "else : print(\"NO\")\n",
    "\n"
   ]
  },
  {
   "cell_type": "code",
   "execution_count": null,
   "id": "0e4d46ec",
   "metadata": {},
   "outputs": [],
   "source": []
  }
 ],
 "metadata": {
  "kernelspec": {
   "display_name": "Python 3 (ipykernel)",
   "language": "python",
   "name": "python3"
  },
  "language_info": {
   "codemirror_mode": {
    "name": "ipython",
    "version": 3
   },
   "file_extension": ".py",
   "mimetype": "text/x-python",
   "name": "python",
   "nbconvert_exporter": "python",
   "pygments_lexer": "ipython3",
   "version": "3.9.13"
  }
 },
 "nbformat": 4,
 "nbformat_minor": 5
}
