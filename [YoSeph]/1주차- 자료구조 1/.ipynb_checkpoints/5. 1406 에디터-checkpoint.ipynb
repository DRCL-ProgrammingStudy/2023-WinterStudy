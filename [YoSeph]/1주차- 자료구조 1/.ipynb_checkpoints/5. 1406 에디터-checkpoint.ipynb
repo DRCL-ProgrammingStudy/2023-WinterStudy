{
 "cells": [
  {
   "cell_type": "markdown",
   "id": "11e8b275",
   "metadata": {},
   "source": [
    "## 문제 https://www.acmicpc.net/problem/1406"
   ]
  },
  {
   "cell_type": "code",
   "execution_count": 15,
   "id": "4b33229f",
   "metadata": {
    "scrolled": true
   },
   "outputs": [
    {
     "ename": "ValueError",
     "evalue": "invalid literal for int() with base 10: ''",
     "output_type": "error",
     "traceback": [
      "\u001b[1;31m---------------------------------------------------------------------------\u001b[0m",
      "\u001b[1;31mValueError\u001b[0m                                Traceback (most recent call last)",
      "\u001b[1;32m~\\AppData\\Local\\Temp\\ipykernel_1328\\410830755.py\u001b[0m in \u001b[0;36m<module>\u001b[1;34m\u001b[0m\n\u001b[0;32m      2\u001b[0m \u001b[1;33m\u001b[0m\u001b[0m\n\u001b[0;32m      3\u001b[0m \u001b[0mstr_line\u001b[0m \u001b[1;33m=\u001b[0m \u001b[0msys\u001b[0m\u001b[1;33m.\u001b[0m\u001b[0mstdin\u001b[0m\u001b[1;33m.\u001b[0m\u001b[0mreadline\u001b[0m\u001b[1;33m(\u001b[0m\u001b[1;33m)\u001b[0m\u001b[1;33m.\u001b[0m\u001b[0msplit\u001b[0m\u001b[1;33m(\u001b[0m\u001b[1;33m)\u001b[0m\u001b[1;33m\u001b[0m\u001b[1;33m\u001b[0m\u001b[0m\n\u001b[1;32m----> 4\u001b[1;33m \u001b[0mcmd_num\u001b[0m \u001b[1;33m=\u001b[0m \u001b[0mint\u001b[0m\u001b[1;33m(\u001b[0m\u001b[0msys\u001b[0m\u001b[1;33m.\u001b[0m\u001b[0mstdin\u001b[0m\u001b[1;33m.\u001b[0m\u001b[0mreadline\u001b[0m\u001b[1;33m(\u001b[0m\u001b[1;33m)\u001b[0m\u001b[1;33m)\u001b[0m\u001b[1;33m\u001b[0m\u001b[1;33m\u001b[0m\u001b[0m\n\u001b[0m\u001b[0;32m      5\u001b[0m \u001b[1;33m\u001b[0m\u001b[0m\n\u001b[0;32m      6\u001b[0m \u001b[0mcursor_pos\u001b[0m \u001b[1;33m=\u001b[0m \u001b[0mlen\u001b[0m\u001b[1;33m(\u001b[0m\u001b[0mstr_line\u001b[0m\u001b[1;33m)\u001b[0m \u001b[1;33m+\u001b[0m \u001b[1;36m1\u001b[0m\u001b[1;33m\u001b[0m\u001b[1;33m\u001b[0m\u001b[0m\n",
      "\u001b[1;31mValueError\u001b[0m: invalid literal for int() with base 10: ''"
     ]
    }
   ],
   "source": [
    "## 오답\n",
    "\n",
    "import sys\n",
    "\n",
    "\n",
    "str_line = list(sys.stdin.readline().rstrip())\n",
    "cmd_num = int(sys.stdin.readline())\n",
    "\n",
    "\n",
    "cursor_pos = len(str_line) + 1\n",
    "\n",
    "for i in range(cmd_num):\n",
    "    cmd = sys.stdin.readline().split()\n",
    "    \n",
    "    if cmd[0] == \"L\" and cursor_pos != 0:\n",
    "        cursor_pos -= 1\n",
    "    \n",
    "    elif cmd[0] == \"D\" and cursor_pos < (len(str_line) + 1):\n",
    "        cursor_pos += 1\n",
    "\n",
    "    elif cmd[0] == \"B\" and cursor_pos != 0:\n",
    "        \n",
    "        if cursor_pos == len(str_line) + 1:\n",
    "            str_line = str_line[:cursor_pos-1]\n",
    "        else:\n",
    "            str_line = str_line[:cursor_pos-1] + str_line[cursor_pos+1:]\n",
    "        cursor_pos -= 1\n",
    "        \n",
    "    elif cmd[0] == \"P\":\n",
    "        \n",
    "        if cursor_pos == len(str_line) + 1:\n",
    "            str_line = str_line + [cmd[1]]\n",
    "            \n",
    "        else:\n",
    "            str_line = str_line[:cursor_pos] + [cmd[1]] + str_line[cursor_pos:]\n",
    "        cursor_pos += 1\n",
    "\n",
    "    # print(str_line)\n",
    "\n",
    "print(''.join(str_line))"
   ]
  },
  {
   "cell_type": "code",
   "execution_count": 29,
   "id": "dbcbdc7d",
   "metadata": {},
   "outputs": [
    {
     "name": "stdout",
     "output_type": "stream",
     "text": [
      "dmih\n",
      "11\n",
      "B\n",
      "B\n",
      "P x\n",
      "L\n",
      "B\n",
      "B\n",
      "B\n",
      "P y\n",
      "D\n",
      "D\n",
      "P z\n",
      "yxz\n"
     ]
    }
   ],
   "source": [
    "## 시간초과\n",
    "\n",
    "import sys\n",
    "\n",
    "str_line = list(input())\n",
    "cmd_num = int(input())\n",
    "\n",
    "stack_1 = str_line\n",
    "stack_2 = []\n",
    "\n",
    "for i in range(cmd_num):\n",
    "    cmd = input().split()\n",
    "    \n",
    "    if cmd[0] == \"L\" and len(stack_1) > 0:\n",
    "        stack_2.append(stack_1.pop())\n",
    "    \n",
    "    elif cmd[0] == \"D\" and len(stack_2) > 0:\n",
    "        stack_1.append(stack_2.pop())\n",
    "        \n",
    "    elif cmd[0] == \"B\" and len(stack_1) > 0:\n",
    "        stack_1.pop()\n",
    "    \n",
    "    elif cmd[0] == \"P\":\n",
    "        stack_1.append(cmd[1])\n",
    "        \n",
    "print(\"\".join(stack_1 + stack_2[::-1]))"
   ]
  },
  {
   "cell_type": "code",
   "execution_count": null,
   "id": "ba3199b8",
   "metadata": {},
   "outputs": [],
   "source": [
    "## 정답\n",
    "\n",
    "import sys\n",
    "\n",
    "str_line = list(sys.stdin.readline().rstrip())\n",
    "cmd_num = int(sys.stdin.readline())\n",
    "\n",
    "stack_1 = str_line\n",
    "stack_2 = []\n",
    "\n",
    "for i in range(cmd_num):\n",
    "    cmd = sys.stdin.readline().split()\n",
    "    \n",
    "    if cmd[0] == \"L\" and len(stack_1) > 0:\n",
    "        stack_2.append(stack_1.pop())\n",
    "    \n",
    "    elif cmd[0] == \"D\" and len(stack_2) > 0:\n",
    "        stack_1.append(stack_2.pop())\n",
    "        \n",
    "    elif cmd[0] == \"B\" and len(stack_1) > 0:\n",
    "        stack_1.pop()\n",
    "    \n",
    "    elif cmd[0] == \"P\":\n",
    "        stack_1.append(cmd[1])\n",
    "        \n",
    "print(\"\".join(stack_1 + stack_2[::-1]))"
   ]
  }
 ],
 "metadata": {
  "kernelspec": {
   "display_name": "Python 3 (ipykernel)",
   "language": "python",
   "name": "python3"
  },
  "language_info": {
   "codemirror_mode": {
    "name": "ipython",
    "version": 3
   },
   "file_extension": ".py",
   "mimetype": "text/x-python",
   "name": "python",
   "nbconvert_exporter": "python",
   "pygments_lexer": "ipython3",
   "version": "3.9.13"
  }
 },
 "nbformat": 4,
 "nbformat_minor": 5
}
