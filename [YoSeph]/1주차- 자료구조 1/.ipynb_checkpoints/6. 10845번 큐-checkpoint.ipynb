{
 "cells": [
  {
   "cell_type": "markdown",
   "id": "ad46878b",
   "metadata": {},
   "source": [
    "## 문제 https://www.acmicpc.net/problem/10845"
   ]
  },
  {
   "cell_type": "code",
   "execution_count": 2,
   "id": "8abbdb34",
   "metadata": {},
   "outputs": [],
   "source": [
    "import sys\n",
    "\n",
    "class My_queue():\n",
    "    def __init__(self):\n",
    "        self.queue = []\n",
    "        \n",
    "    def push(self, num):\n",
    "        self.queue.append(num)\n",
    "        \n",
    "    def pop(self):\n",
    "        if len(self.queue):\n",
    "            return print(self.queue.pop(0))\n",
    "\n",
    "        else : return print(-1)\n",
    "\n",
    "    def empty(self):\n",
    "        if len(self.queue): return print(0)\n",
    "\n",
    "        else: return print(1)\n",
    "\n",
    "    def front(self):\n",
    "        if len(self.queue):\n",
    "            return print(self.queue[0])\n",
    "\n",
    "        else : return print(-1)\n",
    "\n",
    "    def back(self):\n",
    "        if len(self.queue):\n",
    "            return print(self.queue[-1])\n",
    "\n",
    "        else : return print(-1)\n",
    "\n",
    "    def size(self):\n",
    "        return print(len(self.queue))\n",
    "\n"
   ]
  },
  {
   "cell_type": "code",
   "execution_count": null,
   "id": "9db8fbab",
   "metadata": {},
   "outputs": [],
   "source": [
    "cmd_num = int(sys.stdin.readline().rstrip())\n",
    "\n",
    "queue = My_queue()\n",
    "\n",
    "for i in range(cmd_num):\n",
    "    cmd = sys.stdin.readline().rsplit()\n",
    "\n",
    "    if cmd[0] == \"push\":\n",
    "        queue.push(cmd[1])\n",
    "\n",
    "    elif cmd[0] == \"empty\":\n",
    "        queue.empty()\n",
    "\n",
    "    elif cmd[0] == \"pop\":\n",
    "        queue.pop()\n",
    "    \n",
    "    elif cmd[0] == \"front\":\n",
    "        queue.front()\n",
    "\n",
    "    elif cmd[0] == \"back\":\n",
    "        queue.back()\n",
    "\n",
    "    elif cmd[0] == \"size\":\n",
    "        queue.size()"
   ]
  }
 ],
 "metadata": {
  "kernelspec": {
   "display_name": "Python 3 (ipykernel)",
   "language": "python",
   "name": "python3"
  },
  "language_info": {
   "codemirror_mode": {
    "name": "ipython",
    "version": 3
   },
   "file_extension": ".py",
   "mimetype": "text/x-python",
   "name": "python",
   "nbconvert_exporter": "python",
   "pygments_lexer": "ipython3",
   "version": "3.9.13"
  }
 },
 "nbformat": 4,
 "nbformat_minor": 5
}
