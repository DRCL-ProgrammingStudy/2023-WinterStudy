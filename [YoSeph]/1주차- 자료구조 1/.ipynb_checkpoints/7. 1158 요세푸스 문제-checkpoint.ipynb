{
 "cells": [
  {
   "cell_type": "markdown",
   "id": "7026a75e",
   "metadata": {},
   "source": [
    "## 문제 https://www.acmicpc.net/problem/1158"
   ]
  },
  {
   "cell_type": "code",
   "execution_count": null,
   "id": "d50fd26c",
   "metadata": {},
   "outputs": [],
   "source": [
    "## 시간초과\n",
    "\n",
    "import sys\n",
    "\n",
    "cmd = sys.stdin.readline().split()\n",
    "\n",
    "my_queue = [ i for i in range(1, int(cmd[0]) + 1)]\n",
    "\n",
    "value = int(cmd[1])\n",
    "\n",
    "result = []\n",
    "\n",
    "\n",
    "while len(my_queue):\n",
    "\n",
    "    for _ in range(value-1):\n",
    "        my_queue.append(my_queue.pop(0))\n",
    "        \n",
    "    result.append(my_queue.pop(0))\n",
    "\n",
    "\n",
    "print(str(result).replace('[','<').replace(']','>'))"
   ]
  },
  {
   "cell_type": "code",
   "execution_count": null,
   "id": "f6d79b82",
   "metadata": {},
   "outputs": [],
   "source": [
    "## 정답\n",
    "\n",
    "import sys\n",
    "from collections import deque\n",
    "\n",
    "cmd = sys.stdin.readline().split()\n",
    "\n",
    "my_queue = deque()\n",
    "value = int(cmd[1])\n",
    "\n",
    "for i in range(1, int(cmd[0])+1): \n",
    "    my_queue.append(i)\n",
    "\n",
    "result = []\n",
    "\n",
    "while len(my_queue):\n",
    "\n",
    "    for _ in range(value-1):\n",
    "        my_queue.append(my_queue.popleft())\n",
    "        \n",
    "    result.append(my_queue.popleft())\n",
    "\n",
    "print(str(result).replace('[','<').replace(']','>'))\n"
   ]
  }
 ],
 "metadata": {
  "kernelspec": {
   "display_name": "Python 3 (ipykernel)",
   "language": "python",
   "name": "python3"
  },
  "language_info": {
   "codemirror_mode": {
    "name": "ipython",
    "version": 3
   },
   "file_extension": ".py",
   "mimetype": "text/x-python",
   "name": "python",
   "nbconvert_exporter": "python",
   "pygments_lexer": "ipython3",
   "version": "3.9.13"
  }
 },
 "nbformat": 4,
 "nbformat_minor": 5
}
