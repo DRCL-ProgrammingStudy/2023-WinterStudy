{
 "cells": [
  {
   "cell_type": "markdown",
   "id": "0af79253",
   "metadata": {},
   "source": [
    "## 문제 https://www.acmicpc.net/problem/9093"
   ]
  },
  {
   "cell_type": "code",
   "execution_count": 17,
   "id": "b13248c7",
   "metadata": {},
   "outputs": [
    {
     "name": "stdout",
     "output_type": "stream",
     "text": [
      "1\n",
      "I am happy today\n",
      "I ma yppah yadot\n"
     ]
    }
   ],
   "source": [
    "import sys\n",
    "\n",
    "cmd_num = int(input())\n",
    "\n",
    "for i in range(cmd_num):\n",
    "    \n",
    "    reverse_str = []\n",
    "    \n",
    "    str_line = input().split(' ')\n",
    "    \n",
    "    for word in str_line:\n",
    "        \n",
    "        \n",
    "        reverse_str.append(''.join(reversed(word)))\n",
    "        \n",
    "    print(\" \".join(reverse_str))\n"
   ]
  },
  {
   "cell_type": "code",
   "execution_count": null,
   "id": "c406f8ea",
   "metadata": {},
   "outputs": [],
   "source": []
  }
 ],
 "metadata": {
  "kernelspec": {
   "display_name": "Python 3 (ipykernel)",
   "language": "python",
   "name": "python3"
  },
  "language_info": {
   "codemirror_mode": {
    "name": "ipython",
    "version": 3
   },
   "file_extension": ".py",
   "mimetype": "text/x-python",
   "name": "python",
   "nbconvert_exporter": "python",
   "pygments_lexer": "ipython3",
   "version": "3.9.13"
  }
 },
 "nbformat": 4,
 "nbformat_minor": 5
}
