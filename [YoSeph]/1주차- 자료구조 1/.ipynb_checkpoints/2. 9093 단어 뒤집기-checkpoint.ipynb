{
 "cells": [
  {
   "cell_type": "markdown",
   "id": "0af79253",
   "metadata": {},
   "source": [
    "## 문제\n",
    "<div id=\"problem_description\" class=\"problem-text\">\n",
    "\t\t\t\t<p>문장이 주어졌을 때, 단어를 모두 뒤집어서 출력하는 프로그램을 작성하시오. 단, 단어의 순서는 바꿀 수 없다. 단어는 영어 알파벳으로만 이루어져 있다.</p>\n",
    "\n",
    "\n",
    "\n",
    "<p>첫째 줄에 테스트 케이스의 개수 T가 주어진다. 각 테스트 케이스는 한 줄로 이루어져 있으며, 문장이 하나 주어진다. 단어의 길이는 최대 20, 문장의 길이는 최대 1000이다. 단어와 단어 사이에는 공백이 하나 있다.</p>\n",
    "\n",
    "\n",
    "<h2>출력</h2>\n",
    "\n",
    "<p>각 테스트 케이스에 대해서, 입력으로 주어진 문장의 단어를 모두 뒤집어 출력한다.</p>\n",
    "\n",
    "<h2>예제 입력 1\n",
    "\t\t\t\t\t\t\t<button type=\"button\" class=\"btn btn-link copy-button\" style=\"padding: 0px;\" data-clipboard-target=\"#sample-input-1\">복사</button>\n",
    "\t\t\t\t\t\t</h2>\n",
    "\t\t\t\t\t\t</div>\n",
    "\t\t\t\t\t\t<pre class=\"sampledata\" id=\"sample-input-1\">2\n",
    "I am happy today\n",
    "We want to win the first prize\n",
    "</pre>\n",
    "\t\t\t\t\t\t</section>\n",
    "\t\t\t\t\t</div>\n",
    "\t\t\t\t\t<div class=\"col-md-6\">\n",
    "\t\t\t\t\t\t<section id=\"sampleoutput1\">\n",
    "\t\t\t\t\t\t<div class=\"headline\">\n",
    "\t\t\t\t\t\t<h2>예제 출력 1\n",
    "\t\t\t\t\t\t\t<button type=\"button\" class=\"btn btn-link copy-button\" style=\"padding: 0px;\" data-clipboard-target=\"#sample-output-1\">복사</button>\n",
    "\t\t\t\t\t\t</h2>\n",
    "\t\t\t\t\t\t</div>\n",
    "\t\t\t\t\t\t<pre class=\"sampledata\" id=\"sample-output-1\">I ma yppah yadot\n",
    "eW tnaw ot niw eht tsrif ezirp\n",
    "</pre>\n",
    "\t\t\t\t\t\t</section>\n",
    "\t\t\t\t\t</div>\n",
    "\t\t\t\t\t\t\t\t\t</div>\n",
    "\t\t\t\t</div>\n",
    "\t\t\t\t\t\t\t\t\t\t<div class=\"col-md-12\">\n",
    "\t\t\t\t<section id=\"hint\" style=\"display: none;\" class=\"problem-section\">\n",
    "\t\t\t\t<div class=\"headline\">\n",
    "\t\t\t\t<h2>힌트</h2>\n",
    "\t\t\t\t</div>\n",
    "\t\t\t\t<div id=\"problem_hint\" class=\"problem-text\">\n",
    "\t\t\t\t\n",
    "\t\t\t\t</div>\n",
    "\t\t\t\t</section>\n",
    "\t\t\t</div>"
   ]
  },
  {
   "cell_type": "code",
   "execution_count": 17,
   "id": "b13248c7",
   "metadata": {},
   "outputs": [
    {
     "name": "stdout",
     "output_type": "stream",
     "text": [
      "1\n",
      "I am happy today\n",
      "I ma yppah yadot\n"
     ]
    }
   ],
   "source": [
    "import sys\n",
    "\n",
    "cmd_num = int(input())\n",
    "\n",
    "for i in range(cmd_num):\n",
    "    \n",
    "    reverse_str = []\n",
    "    \n",
    "    str_line = input().split(' ')\n",
    "    \n",
    "    for word in str_line:\n",
    "        \n",
    "        \n",
    "        reverse_str.append(''.join(reversed(word)))\n",
    "        \n",
    "    print(\" \".join(reverse_str))\n"
   ]
  },
  {
   "cell_type": "code",
   "execution_count": 14,
   "id": "2a368a75",
   "metadata": {},
   "outputs": [
    {
     "data": {
      "text/plain": [
       "'cba'"
      ]
     },
     "execution_count": 14,
     "metadata": {},
     "output_type": "execute_result"
    }
   ],
   "source": [
    "a = \"abc\"\n",
    "\n",
    "''.join(reversed(a))"
   ]
  },
  {
   "cell_type": "code",
   "execution_count": 10,
   "id": "8bf2194d",
   "metadata": {},
   "outputs": [
    {
     "data": {
      "text/plain": [
       "\"['c', 'b', 'a']\""
      ]
     },
     "execution_count": 10,
     "metadata": {},
     "output_type": "execute_result"
    }
   ],
   "source": []
  },
  {
   "cell_type": "code",
   "execution_count": 7,
   "id": "88e05bb9",
   "metadata": {},
   "outputs": [
    {
     "data": {
      "text/plain": [
       "['a', 'b', 'c']"
      ]
     },
     "execution_count": 7,
     "metadata": {},
     "output_type": "execute_result"
    }
   ],
   "source": [
    "list(\"abc\")"
   ]
  },
  {
   "cell_type": "code",
   "execution_count": null,
   "id": "c406f8ea",
   "metadata": {},
   "outputs": [],
   "source": []
  }
 ],
 "metadata": {
  "kernelspec": {
   "display_name": "Python 3 (ipykernel)",
   "language": "python",
   "name": "python3"
  },
  "language_info": {
   "codemirror_mode": {
    "name": "ipython",
    "version": 3
   },
   "file_extension": ".py",
   "mimetype": "text/x-python",
   "name": "python",
   "nbconvert_exporter": "python",
   "pygments_lexer": "ipython3",
   "version": "3.9.13"
  }
 },
 "nbformat": 4,
 "nbformat_minor": 5
}
