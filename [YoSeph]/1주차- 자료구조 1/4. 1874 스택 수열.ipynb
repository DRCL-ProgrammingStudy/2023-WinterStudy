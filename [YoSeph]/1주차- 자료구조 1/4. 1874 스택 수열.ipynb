{
 "cells": [
  {
   "cell_type": "markdown",
   "id": "ed248fcc",
   "metadata": {},
   "source": [
    "## 문제\n",
    "<p>스택 (stack)은 기본적인 자료구조 중 하나로, 컴퓨터 프로그램을 작성할 때 자주 이용되는 개념이다. 스택은 자료를 넣는 (push) 입구와 자료를 뽑는 (pop) 입구가 같아 제일 나중에 들어간 자료가 제일 먼저 나오는 (LIFO, Last in First out) 특성을 가지고 있다.</p>\n",
    "\n",
    "<p>1부터 n까지의 수를 스택에 넣었다가 뽑아 늘어놓음으로써, 하나의 수열을 만들 수 있다. 이때, 스택에 push하는 순서는 반드시 오름차순을 지키도록 한다고 하자. 임의의 수열이 주어졌을 때 스택을 이용해 그 수열을 만들 수 있는지 없는지, 있다면 어떤 순서로 push와 pop 연산을 수행해야 하는지를 알아낼 수 있다. 이를 계산하는 프로그램을 작성하라.</p>\n",
    "\n",
    "\n",
    "<h2>입력</h2>\n",
    "\n",
    "<p>첫 줄에 n (1 &le; n &le; 100,000)이 주어진다. 둘째 줄부터 n개의 줄에는 수열을 이루는 1이상 n이하의 정수가 하나씩 순서대로 주어진다. 물론 같은 정수가 두 번 나오는 일은 없다.</p>\n",
    "\n",
    "\n",
    "\n",
    "<h2>출력</h2>\n",
    "\n",
    "<p>입력된 수열을 만들기 위해 필요한 연산을 한 줄에 한 개씩 출력한다. push연산은 +로, pop 연산은 -로 표현하도록 한다. 불가능한 경우 NO를 출력한다.</p>\n",
    "\n",
    "\n",
    "<h2>예제 입력 1\n",
    "\t\t\t\t\t\t\t<button type=\"button\" class=\"btn btn-link copy-button\" style=\"padding: 0px;\" data-clipboard-target=\"#sample-input-1\">복사</button>\n",
    "\t\t\t\t\t\t</h2>\n",
    "\t\t\t\t\t\t</div>\n",
    "\t\t\t\t\t\t<pre class=\"sampledata\" id=\"sample-input-1\">8\n",
    "4\n",
    "3\n",
    "6\n",
    "8\n",
    "7\n",
    "5\n",
    "2\n",
    "1\n",
    "</pre>\n",
    "\t\t\t\t\t\t</section>\n",
    "\t\t\t\t\t</div>\n",
    "\t\t\t\t\t<div class=\"col-md-6\">\n",
    "\t\t\t\t\t\t<section id=\"sampleoutput1\">\n",
    "\t\t\t\t\t\t<div class=\"headline\">\n",
    "\t\t\t\t\t\t<h2>예제 출력 1\n",
    "\t\t\t\t\t\t\t<button type=\"button\" class=\"btn btn-link copy-button\" style=\"padding: 0px;\" data-clipboard-target=\"#sample-output-1\">복사</button>\n",
    "\t\t\t\t\t\t</h2>\n",
    "\t\t\t\t\t\t</div>\n",
    "\t\t\t\t\t\t<pre class=\"sampledata\" id=\"sample-output-1\">+\n",
    "+\n",
    "+\n",
    "+\n",
    "-\n",
    "-\n",
    "+\n",
    "+\n",
    "-\n",
    "+\n",
    "+\n",
    "-\n",
    "-\n",
    "-\n",
    "-\n",
    "-\n",
    "</pre>\n",
    "\t\t\t\t\t\t</section>\n",
    "\t\t\t\t\t</div>\n",
    "\t\t\t\t\t\t\t\t\t</div>\n",
    "\t\t\t\t</div>\n",
    "\t\t\t\t\t\t\t\t<div class=\"col-md-12\">\n",
    "\t\t\t\t<div class=\"row\">\n",
    "\t\t\t\t\t<div class=\"col-md-6\">\n",
    "\t\t\t\t\t\t<section id=\"sampleinput2\">\n",
    "\t\t\t\t\t\t<div class=\"headline\">\n",
    "\t\t\t\t\t\t<h2>예제 입력 2\n",
    "\t\t\t\t\t\t\t<button type=\"button\" class=\"btn btn-link copy-button\" style=\"padding: 0px;\" data-clipboard-target=\"#sample-input-2\">복사</button>\n",
    "\t\t\t\t\t\t</h2>\n",
    "\t\t\t\t\t\t</div>\n",
    "\t\t\t\t\t\t<pre class=\"sampledata\" id=\"sample-input-2\">5\n",
    "1\n",
    "2\n",
    "5\n",
    "3\n",
    "4\n",
    "</pre>\n",
    "\t\t\t\t\t\t</section>\n",
    "\t\t\t\t\t</div>\n",
    "\t\t\t\t\t<div class=\"col-md-6\">\n",
    "\t\t\t\t\t\t<section id=\"sampleoutput2\">\n",
    "\t\t\t\t\t\t<div class=\"headline\">\n",
    "\t\t\t\t\t\t<h2>예제 출력 2\n",
    "\t\t\t\t\t\t\t<button type=\"button\" class=\"btn btn-link copy-button\" style=\"padding: 0px;\" data-clipboard-target=\"#sample-output-2\">복사</button>\n",
    "\t\t\t\t\t\t</h2>\n",
    "\t\t\t\t\t\t</div>\n",
    "\t\t\t\t\t\t<pre class=\"sampledata\" id=\"sample-output-2\">NO\n",
    "</pre>\n",
    "\t\t\t\t\t\t</section>\n",
    "\t\t\t\t\t</div>\n",
    "\t\t\t\t\t\t\t\t\t</div>\n",
    "\t\t\t\t</div>\n",
    "\t\t\t\t\t\t\t\t\t\t<div class=\"col-md-12\">\n",
    "\t\t\t\t<section id=\"hint\"  class=\"problem-section\">\n",
    "\t\t\t\t<div class=\"headline\">\n",
    "\t\t\t\t<h2>힌트</h2>\n",
    "\t\t\t\t</div>\n",
    "\t\t\t\t<div id=\"problem_hint\" class=\"problem-text\">\n",
    "\t\t\t\t<p>1부터 n까지에 수에 대해 차례로 [push, push, push, push, pop, pop, push, push, pop, push, push, pop, pop, pop, pop, pop] 연산을 수행하면 수열 [4, 3, 6, 8, 7, 5, 2, 1]을 얻을 수 있다.</p>\n"
   ]
  },
  {
   "cell_type": "code",
   "execution_count": 12,
   "id": "f97dea43",
   "metadata": {},
   "outputs": [
    {
     "name": "stdout",
     "output_type": "stream",
     "text": [
      "8\n",
      "4\n",
      "[1, 2, 3]\n",
      "3\n",
      "[1, 2]\n",
      "6\n",
      "[1, 2, 5]\n",
      "8\n",
      "[1, 2, 5, 7]\n",
      "7\n",
      "[1, 2, 5]\n",
      "5\n",
      "[1, 2]\n",
      "2\n",
      "[1]\n",
      "1\n",
      "[]\n",
      "+\n",
      "+\n",
      "+\n",
      "+\n",
      "-\n",
      "-\n",
      "+\n",
      "+\n",
      "-\n",
      "+\n",
      "+\n",
      "-\n",
      "-\n",
      "-\n",
      "-\n",
      "-\n"
     ]
    }
   ],
   "source": [
    "import sys\n",
    "\n",
    "cmd_num = int(sys.stdin.readline())\n",
    "\n",
    "count = 0\n",
    "stack = []\n",
    "\n",
    "output_list = []\n",
    "\n",
    "for i in range(cmd_num):\n",
    "    num = int(sys.stdin.readline())\n",
    "    \n",
    "    while count < num:\n",
    "        count += 1\n",
    "        stack.append(count)\n",
    "        output_list.append('+')\n",
    "        \n",
    "    if num == stack[-1]:\n",
    "        stack.pop()\n",
    "        output_list.append('-')\n",
    "    \n",
    "\n",
    "if len(stack) == 0:\n",
    "       for i in output_list:\n",
    "            print(i)\n",
    "\n",
    "else : print(\"NO\")\n",
    "\n"
   ]
  },
  {
   "cell_type": "code",
   "execution_count": 3,
   "id": "d364ac1d",
   "metadata": {},
   "outputs": [
    {
     "data": {
      "text/plain": [
       "[1, 2, 3]"
      ]
     },
     "execution_count": 3,
     "metadata": {},
     "output_type": "execute_result"
    }
   ],
   "source": [
    "stack"
   ]
  },
  {
   "cell_type": "code",
   "execution_count": 5,
   "id": "1f9dee71",
   "metadata": {},
   "outputs": [
    {
     "data": {
      "text/plain": [
       "[1, 2]"
      ]
     },
     "execution_count": 5,
     "metadata": {},
     "output_type": "execute_result"
    }
   ],
   "source": [
    "stack"
   ]
  },
  {
   "cell_type": "code",
   "execution_count": null,
   "id": "0e4d46ec",
   "metadata": {},
   "outputs": [],
   "source": []
  }
 ],
 "metadata": {
  "kernelspec": {
   "display_name": "Python 3 (ipykernel)",
   "language": "python",
   "name": "python3"
  },
  "language_info": {
   "codemirror_mode": {
    "name": "ipython",
    "version": 3
   },
   "file_extension": ".py",
   "mimetype": "text/x-python",
   "name": "python",
   "nbconvert_exporter": "python",
   "pygments_lexer": "ipython3",
   "version": "3.9.13"
  }
 },
 "nbformat": 4,
 "nbformat_minor": 5
}
