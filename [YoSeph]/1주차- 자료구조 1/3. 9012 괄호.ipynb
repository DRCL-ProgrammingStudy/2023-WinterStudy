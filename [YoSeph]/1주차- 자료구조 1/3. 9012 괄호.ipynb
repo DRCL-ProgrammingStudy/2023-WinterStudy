{
 "cells": [
  {
   "cell_type": "markdown",
   "id": "2cde0485",
   "metadata": {},
   "source": [
    "## 문제 https://www.acmicpc.net/problem/9012"
   ]
  },
  {
   "cell_type": "code",
   "execution_count": 1,
   "id": "407dc245",
   "metadata": {},
   "outputs": [],
   "source": [
    "def check_ps(str_list):\n",
    "    \n",
    "    left_num = 0\n",
    "    right_num = 0\n",
    "    \n",
    "    for word in str_list:\n",
    "        \n",
    "        if '(' == word:\n",
    "            left_num += 1\n",
    "            \n",
    "        elif ')' == word:\n",
    "            right_num += 1\n",
    "            \n",
    "        if left_num < right_num : return print(\"NO\")\n",
    "    \n",
    "    if left_num != right_num: return print(\"NO\")\n",
    "    \n",
    "    return print(\"YES\")"
   ]
  },
  {
   "cell_type": "code",
   "execution_count": 7,
   "id": "d8616af9",
   "metadata": {},
   "outputs": [
    {
     "name": "stdout",
     "output_type": "stream",
     "text": [
      "1\n",
      "((()()(()))(((())))()\n",
      "NO\n"
     ]
    }
   ],
   "source": [
    "cmd_num = int(input())\n",
    "\n",
    "for i in range(cmd_num):\n",
    "    command = list(input())\n",
    "    \n",
    "    check_ps(command)"
   ]
  },
  {
   "cell_type": "code",
   "execution_count": null,
   "id": "a4405de7",
   "metadata": {},
   "outputs": [],
   "source": []
  }
 ],
 "metadata": {
  "kernelspec": {
   "display_name": "Python 3 (ipykernel)",
   "language": "python",
   "name": "python3"
  },
  "language_info": {
   "codemirror_mode": {
    "name": "ipython",
    "version": 3
   },
   "file_extension": ".py",
   "mimetype": "text/x-python",
   "name": "python",
   "nbconvert_exporter": "python",
   "pygments_lexer": "ipython3",
   "version": "3.9.13"
  }
 },
 "nbformat": 4,
 "nbformat_minor": 5
}
