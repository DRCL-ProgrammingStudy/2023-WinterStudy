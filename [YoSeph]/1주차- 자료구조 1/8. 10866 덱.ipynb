{
 "cells": [
  {
   "cell_type": "markdown",
   "id": "275fef42",
   "metadata": {},
   "source": [
    "## 문제 https://www.acmicpc.net/problem/10866"
   ]
  },
  {
   "cell_type": "code",
   "execution_count": 2,
   "id": "a191efd6",
   "metadata": {},
   "outputs": [
    {
     "ename": "ValueError",
     "evalue": "invalid literal for int() with base 10: ''",
     "output_type": "error",
     "traceback": [
      "\u001b[1;31m---------------------------------------------------------------------------\u001b[0m",
      "\u001b[1;31mValueError\u001b[0m                                Traceback (most recent call last)",
      "\u001b[1;32m~\\AppData\\Local\\Temp\\ipykernel_12136\\1410659096.py\u001b[0m in \u001b[0;36m<module>\u001b[1;34m\u001b[0m\n\u001b[0;32m     40\u001b[0m         \u001b[1;32melse\u001b[0m\u001b[1;33m:\u001b[0m \u001b[0mprint\u001b[0m\u001b[1;33m(\u001b[0m\u001b[1;33m-\u001b[0m\u001b[1;36m1\u001b[0m\u001b[1;33m)\u001b[0m\u001b[1;33m\u001b[0m\u001b[1;33m\u001b[0m\u001b[0m\n\u001b[0;32m     41\u001b[0m \u001b[1;33m\u001b[0m\u001b[0m\n\u001b[1;32m---> 42\u001b[1;33m \u001b[0mcmd_num\u001b[0m \u001b[1;33m=\u001b[0m \u001b[0mint\u001b[0m\u001b[1;33m(\u001b[0m\u001b[0msys\u001b[0m\u001b[1;33m.\u001b[0m\u001b[0mstdin\u001b[0m\u001b[1;33m.\u001b[0m\u001b[0mreadline\u001b[0m\u001b[1;33m(\u001b[0m\u001b[1;33m)\u001b[0m\u001b[1;33m)\u001b[0m\u001b[1;33m\u001b[0m\u001b[1;33m\u001b[0m\u001b[0m\n\u001b[0m\u001b[0;32m     43\u001b[0m \u001b[1;33m\u001b[0m\u001b[0m\n\u001b[0;32m     44\u001b[0m \u001b[0mmy_deque\u001b[0m \u001b[1;33m=\u001b[0m \u001b[0mMy_deque\u001b[0m\u001b[1;33m(\u001b[0m\u001b[1;33m)\u001b[0m\u001b[1;33m\u001b[0m\u001b[1;33m\u001b[0m\u001b[0m\n",
      "\u001b[1;31mValueError\u001b[0m: invalid literal for int() with base 10: ''"
     ]
    }
   ],
   "source": [
    "import sys\n",
    "\n",
    "class My_deque():\n",
    "    \n",
    "    def __init__(self):\n",
    "        self.deque = []\n",
    "        \n",
    "    def push_front(self, num):\n",
    "        self.deque = [num] + self.deque\n",
    "        \n",
    "    def push_back(self, num):\n",
    "        self.deque.append(num)\n",
    "        \n",
    "    def pop_front(self):\n",
    "        if len(self.deque): return print(self.deque.pop(0))\n",
    "        \n",
    "        else: print(-1)\n",
    "    \n",
    "    def pop_back(self):\n",
    "        if len(self.deque): return print(self.deque.pop())\n",
    "        \n",
    "        else: print(-1)\n",
    "\n",
    "    def size(self):\n",
    "        return print(len(self.deque))\n",
    "    \n",
    "    def empty(self):\n",
    "        if len(self.deque): return print(0)\n",
    "        \n",
    "        else : return print(1)\n",
    "\n",
    "    def front(self):\n",
    "        if len(self.deque): return print(self.deque[0])\n",
    "        \n",
    "        else: print(-1)\n",
    "            \n",
    "    def back(self):\n",
    "        if len(self.deque): return print(self.deque[-1])\n",
    "        \n",
    "        else: print(-1)\n",
    "            \n",
    "cmd_num = int(sys.stdin.readline())\n",
    "\n",
    "my_deque = My_deque()\n",
    "\n",
    "for _ in range(cmd_num):\n",
    "    cmd = sys.stdin.readline().rstrip().split()\n",
    "    \n",
    "    if cmd[0] == \"push_front\":\n",
    "        my_deque.push_front(int(cmd[1]))\n",
    "        \n",
    "    elif cmd[0] == \"push_back\":\n",
    "        my_deque.push_back(int(cmd[1]))\n",
    "    \n",
    "    elif cmd[0] == \"pop_front\":\n",
    "        my_deque.pop_front()\n",
    "    \n",
    "    elif cmd[0] == \"pop_back\":\n",
    "        my_deque.pop_back()\n",
    "        \n",
    "    elif cmd[0] == \"size\":\n",
    "        my_deque.size()\n",
    "        \n",
    "    elif cmd[0] == \"empty\":\n",
    "        my_deque.empty()\n",
    "        \n",
    "    elif cmd[0] == \"front\":\n",
    "        my_deque.front()\n",
    "        \n",
    "    elif cmd[0] == \"back\":\n",
    "        my_deque.back()"
   ]
  },
  {
   "cell_type": "code",
   "execution_count": null,
   "id": "37741ade",
   "metadata": {},
   "outputs": [],
   "source": []
  }
 ],
 "metadata": {
  "kernelspec": {
   "display_name": "Python 3 (ipykernel)",
   "language": "python",
   "name": "python3"
  },
  "language_info": {
   "codemirror_mode": {
    "name": "ipython",
    "version": 3
   },
   "file_extension": ".py",
   "mimetype": "text/x-python",
   "name": "python",
   "nbconvert_exporter": "python",
   "pygments_lexer": "ipython3",
   "version": "3.9.13"
  }
 },
 "nbformat": 4,
 "nbformat_minor": 5
}
