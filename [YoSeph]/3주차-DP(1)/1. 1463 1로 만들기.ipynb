{
 "cells": [
  {
   "cell_type": "code",
   "execution_count": 2,
   "metadata": {},
   "outputs": [
    {
     "name": "stdout",
     "output_type": "stream",
     "text": [
      "10\n",
      "3\n"
     ]
    }
   ],
   "source": [
    "import sys\n",
    "\n",
    "# cmd_num = int(sys.stdin.readline().rstrip())\n",
    "\n",
    "cmd_num = int(input())\n",
    "\n",
    "dp_list = [0] * (cmd_num + 1)\n",
    "\n",
    "for i in range(2, cmd_num + 1):\n",
    "    dp_list[i] = dp_list[i-1] + 1\n",
    "    \n",
    "    if i % 2 == 0:\n",
    "        dp_list[i] = min(dp_list[i], dp_list[i//2] + 1)\n",
    "        \n",
    "    if i % 3 == 0 :\n",
    "        dp_list[i] = min(dp_list[i], dp_list[i//3] + 1)\n",
    "        \n",
    "print(dp_list[cmd_num])"
   ]
  },
  {
   "cell_type": "code",
   "execution_count": null,
   "metadata": {},
   "outputs": [],
   "source": []
  }
 ],
 "metadata": {
  "kernelspec": {
   "display_name": "Python 3 (ipykernel)",
   "language": "python",
   "name": "python3"
  },
  "language_info": {
   "codemirror_mode": {
    "name": "ipython",
    "version": 3
   },
   "file_extension": ".py",
   "mimetype": "text/x-python",
   "name": "python",
   "nbconvert_exporter": "python",
   "pygments_lexer": "ipython3",
   "version": "3.11.0"
  }
 },
 "nbformat": 4,
 "nbformat_minor": 2
}
