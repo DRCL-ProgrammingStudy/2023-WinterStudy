{
 "cells": [
  {
   "cell_type": "code",
   "execution_count": null,
   "metadata": {},
   "outputs": [],
   "source": [
    "import sys\n",
    "\n",
    "cmd_num = int(sys.stdin.readline())\n",
    "\n",
    "dp_list = [[0, 0, 0, 0] for _ in range(100000 + 1)]\n",
    "\n",
    "dp_list[1] = [0, 1, 0, 0]\n",
    "dp_list[2] = [0, 0, 1, 0]\n",
    "dp_list[3] = [0, 1, 1, 1]\n",
    "\n",
    "for i in range(4, 100000 + 1):\n",
    "    dp_list[i][1] = (dp_list[i-1][2] + dp_list[i-1][3]) % 1000000009\n",
    "    dp_list[i][2] = (dp_list[i-2][1] + dp_list[i-2][3]) % 1000000009\n",
    "    dp_list[i][3] = (dp_list[i-3][1] + dp_list[i-3][2]) % 1000000009\n",
    "\n",
    "for i in range(cmd_num):\n",
    "    cmd = int(sys.stdin.readline())\n",
    "\n",
    "    print(sum(dp_list[cmd]) % 1000000009)\n"
   ]
  }
 ],
 "metadata": {
  "kernelspec": {
   "display_name": "base",
   "language": "python",
   "name": "python3"
  },
  "language_info": {
   "codemirror_mode": {
    "name": "ipython",
    "version": 3
   },
   "file_extension": ".py",
   "mimetype": "text/x-python",
   "name": "python",
   "nbconvert_exporter": "python",
   "pygments_lexer": "ipython3",
   "version": "3.9.13"
  },
  "vscode": {
   "interpreter": {
    "hash": "dc15657baa3791f02810714a211f18176e06d4b1bb27fb33ca0c24e86185b93e"
   }
  }
 },
 "nbformat": 4,
 "nbformat_minor": 2
}
