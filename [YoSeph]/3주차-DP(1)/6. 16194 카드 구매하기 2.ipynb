{
 "cells": [
  {
   "cell_type": "code",
   "execution_count": 25,
   "metadata": {
    "scrolled": false
   },
   "outputs": [
    {
     "name": "stdout",
     "output_type": "stream",
     "text": [
      "9\n",
      "100 1 5 1 100 100 100 100 100\n",
      "100\n"
     ]
    }
   ],
   "source": [
    "# 오답\n",
    "import sys\n",
    "\n",
    "def find_max_value(card_list):\n",
    "    max_value_index = 1\n",
    "    max_value = card_list[max_value_index]\n",
    "    \n",
    "    for i in range(2, len(card_list)):\n",
    "        if max_value > (card_list[i] / i):\n",
    "            max_value_index = i\n",
    "            max_value = card_list[i] / i\n",
    "            \n",
    "    return max_value_index\n",
    "\n",
    "cmd_num = int(input())\n",
    "\n",
    "card_list = [0] + list(map(int,input().split(' ')))\n",
    "\n",
    "dp_list = [0] + [0] * cmd_num\n",
    "dp_list[1] = card_list[1]\n",
    "\n",
    "max_value_card = find_max_value(card_list)\n",
    "\n",
    "for i in range(2, cmd_num + 1):\n",
    "    dp_list[i] = min(dp_list[i-1] + dp_list[1], card_list[i])\n",
    "    \n",
    "    if i > max_value_card:\n",
    "        dp_list[i] = min(dp_list[i], dp_list[i - max_value_card] + dp_list[max_value_card])\n",
    "        \n",
    "print(dp_list[cmd_num])"
   ]
  },
  {
   "cell_type": "code",
   "execution_count": 26,
   "metadata": {},
   "outputs": [
    {
     "data": {
      "text/plain": [
       "4"
      ]
     },
     "execution_count": 26,
     "metadata": {},
     "output_type": "execute_result"
    }
   ],
   "source": [
    "import sys\n",
    "\n",
    "cmd_num = int(sys.stdin.readline())\n",
    "\n",
    "card_list = [0] + list(map(int,sys.stdin.readline().split(' ')))\n",
    "\n",
    "dp_list = [0] + [0] * cmd_num\n",
    "dp_list[1] = card_list[1]\n",
    "\n",
    "for i in range(2, cmd_num + 1):\n",
    "    dp_list[i] = card_list[i]\n",
    "    for j in range(i):\n",
    "        dp_list[i] = min(dp_list[i], dp_list[j] + dp_list[i - j])\n",
    "    \n",
    "\n",
    "print(dp_list[cmd_num])"
   ]
  },
  {
   "cell_type": "code",
   "execution_count": null,
   "metadata": {},
   "outputs": [],
   "source": []
  }
 ],
 "metadata": {
  "kernelspec": {
   "display_name": "Python 3 (ipykernel)",
   "language": "python",
   "name": "python3"
  },
  "language_info": {
   "codemirror_mode": {
    "name": "ipython",
    "version": 3
   },
   "file_extension": ".py",
   "mimetype": "text/x-python",
   "name": "python",
   "nbconvert_exporter": "python",
   "pygments_lexer": "ipython3",
   "version": "3.11.0"
  }
 },
 "nbformat": 4,
 "nbformat_minor": 2
}
