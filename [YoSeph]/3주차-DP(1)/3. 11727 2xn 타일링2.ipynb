{
 "cells": [
  {
   "cell_type": "code",
   "execution_count": 3,
   "metadata": {},
   "outputs": [
    {
     "name": "stdout",
     "output_type": "stream",
     "text": [
      "12\n",
      "2731\n"
     ]
    }
   ],
   "source": [
    "import sys\n",
    "\n",
    "# cmd_num = int(sys.stdin.readline().rstrip())\n",
    "cmd_num = int(input())\n",
    "dp_list = [0] * 1001\n",
    "\n",
    "dp_list[1] = 1\n",
    "dp_list[2] = 3\n",
    "\n",
    "for i in range(3, cmd_num + 1):\n",
    "    dp_list[i] = 2 * dp_list[i-2] + dp_list[i-1]\n",
    "    \n",
    "print(dp_list[cmd_num] % 10007)"
   ]
  },
  {
   "cell_type": "code",
   "execution_count": null,
   "metadata": {},
   "outputs": [],
   "source": []
  }
 ],
 "metadata": {
  "kernelspec": {
   "display_name": "Python 3 (ipykernel)",
   "language": "python",
   "name": "python3"
  },
  "language_info": {
   "codemirror_mode": {
    "name": "ipython",
    "version": 3
   },
   "file_extension": ".py",
   "mimetype": "text/x-python",
   "name": "python",
   "nbconvert_exporter": "python",
   "pygments_lexer": "ipython3",
   "version": "3.11.0"
  }
 },
 "nbformat": 4,
 "nbformat_minor": 2
}
