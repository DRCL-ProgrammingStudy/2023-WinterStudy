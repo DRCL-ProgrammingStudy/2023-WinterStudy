{
 "cells": [
  {
   "cell_type": "code",
   "execution_count": 1,
   "metadata": {},
   "outputs": [
    {
     "name": "stdout",
     "output_type": "stream",
     "text": [
      "3\n",
      "4\n",
      "7\n",
      "7\n",
      "44\n",
      "10\n",
      "274\n"
     ]
    }
   ],
   "source": [
    "import sys\n",
    "\n",
    "# cmd_num = int(sys.stdin.readline().rstrip())\n",
    "cmd_num = int(input())\n",
    "\n",
    "dp_list = [0] * 12\n",
    "dp_list[1], dp_list[2], dp_list[3] = 1, 2, 4\n",
    "\n",
    "for _ in range(cmd_num):\n",
    "#     cmd = int(sys.stdin.readline().rstrip())\n",
    "    cmd = int(input())\n",
    "    \n",
    "    for i in range(4, cmd + 1):\n",
    "        dp_list[i] = dp_list[i-1] + dp_list[i-2] + dp_list[i-3]\n",
    "        \n",
    "    print(dp_list[cmd])\n",
    "    \n",
    "\n",
    "    "
   ]
  },
  {
   "cell_type": "code",
   "execution_count": null,
   "metadata": {},
   "outputs": [],
   "source": []
  }
 ],
 "metadata": {
  "kernelspec": {
   "display_name": "Python 3 (ipykernel)",
   "language": "python",
   "name": "python3"
  },
  "language_info": {
   "codemirror_mode": {
    "name": "ipython",
    "version": 3
   },
   "file_extension": ".py",
   "mimetype": "text/x-python",
   "name": "python",
   "nbconvert_exporter": "python",
   "pygments_lexer": "ipython3",
   "version": "3.11.0"
  }
 },
 "nbformat": 4,
 "nbformat_minor": 2
}
