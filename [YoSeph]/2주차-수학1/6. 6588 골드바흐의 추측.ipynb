{
 "cells": [
  {
   "attachments": {},
   "cell_type": "markdown",
   "id": "44c3e7de",
   "metadata": {},
   "source": [
    "## 문제 https://www.acmicpc.net/problem/6588"
   ]
  },
  {
   "cell_type": "code",
   "execution_count": 1,
   "id": "7efd7865",
   "metadata": {},
   "outputs": [],
   "source": [
    "import sys\n",
    "\n",
    "max_range = 1000000\n",
    "# max_range = 100\n",
    "\n",
    "\n",
    "prime_check_list = [True for _ in range(max_range)]\n",
    "\n",
    "#에라토스테네스의 채\n",
    "for i in range(2, int(max_range)):\n",
    "    if prime_check_list[i] == True:\n",
    "        for j in range(i * 2, max_range, i):\n",
    "            if prime_check_list[j] == True:\n",
    "                prime_check_list[j] = False\n",
    "\n",
    "while(True):\n",
    "    cmd_num = int(sys.stdin.readline().rstrip())\n",
    "\n",
    "    if cmd_num == 0 : break\n",
    "\n",
    "    for i in range(3, max_range):\n",
    "        if prime_check_list[i] == True:\n",
    "            if prime_check_list[cmd_num - i] == True:\n",
    "                print(\"{} = {} + {}\".format(cmd_num, i, cmd_num - i))\n",
    "                break"
   ]
  },
  {
   "cell_type": "code",
   "execution_count": null,
   "id": "bb4497fd",
   "metadata": {},
   "outputs": [],
   "source": []
  },
  {
   "cell_type": "code",
   "execution_count": null,
   "id": "9c3fadc6",
   "metadata": {},
   "outputs": [],
   "source": []
  }
 ],
 "metadata": {
  "kernelspec": {
   "display_name": "base",
   "language": "python",
   "name": "python3"
  },
  "language_info": {
   "codemirror_mode": {
    "name": "ipython",
    "version": 3
   },
   "file_extension": ".py",
   "mimetype": "text/x-python",
   "name": "python",
   "nbconvert_exporter": "python",
   "pygments_lexer": "ipython3",
   "version": "3.9.13 (main, Aug 25 2022, 23:51:50) [MSC v.1916 64 bit (AMD64)]"
  },
  "vscode": {
   "interpreter": {
    "hash": "dc15657baa3791f02810714a211f18176e06d4b1bb27fb33ca0c24e86185b93e"
   }
  }
 },
 "nbformat": 4,
 "nbformat_minor": 5
}
