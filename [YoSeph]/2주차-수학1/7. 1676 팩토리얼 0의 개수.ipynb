{
 "cells": [
  {
   "attachments": {},
   "cell_type": "markdown",
   "id": "44c3e7de",
   "metadata": {},
   "source": [
    "## 문제 https://www.acmicpc.net/problem/1676"
   ]
  },
  {
   "cell_type": "code",
   "execution_count": 1,
   "id": "7efd7865",
   "metadata": {},
   "outputs": [],
   "source": [
    "import sys\n",
    "\n",
    "def get_factorial(num):\n",
    "    result = 1\n",
    "\n",
    "    if num == 0 or num == 1:\n",
    "        return result\n",
    "\n",
    "    else:\n",
    "        for i in range(num, 1, -1):\n",
    "            result *= i\n",
    "        return result\n",
    "\n",
    "cmd_num = int(sys.stdin.readline().rstrip())\n",
    "\n",
    "factorial = get_factorial(cmd_num)\n",
    "zero_count = 0\n",
    "for i in str(factorial)[::-1]:\n",
    "    if i != \"0\":\n",
    "        break\n",
    "\n",
    "    zero_count += 1\n",
    "\n",
    "print(zero_count)\n"
   ]
  },
  {
   "cell_type": "code",
   "execution_count": null,
   "id": "bb4497fd",
   "metadata": {},
   "outputs": [],
   "source": [
    "import sys\n",
    "\n",
    "def get_factorial(num):\n",
    "    result = 1\n",
    "\n",
    "    if num == 0 or num == 1:\n",
    "        return result\n",
    "\n",
    "    else:\n",
    "        for i in range(num, 1, -1):\n",
    "            result *= i\n",
    "        return result\n",
    "\n",
    "cmd_num = int(sys.stdin.readline().rstrip())\n",
    "\n",
    "factorial = get_factorial(cmd_num)\n",
    "\n",
    "non_zero_num = factorial // 10\n",
    "\n"
   ]
  },
  {
   "cell_type": "code",
   "execution_count": null,
   "id": "9c3fadc6",
   "metadata": {},
   "outputs": [],
   "source": []
  }
 ],
 "metadata": {
  "kernelspec": {
   "display_name": "base",
   "language": "python",
   "name": "python3"
  },
  "language_info": {
   "codemirror_mode": {
    "name": "ipython",
    "version": 3
   },
   "file_extension": ".py",
   "mimetype": "text/x-python",
   "name": "python",
   "nbconvert_exporter": "python",
   "pygments_lexer": "ipython3",
   "version": "3.9.13"
  },
  "vscode": {
   "interpreter": {
    "hash": "dc15657baa3791f02810714a211f18176e06d4b1bb27fb33ca0c24e86185b93e"
   }
  }
 },
 "nbformat": 4,
 "nbformat_minor": 5
}
