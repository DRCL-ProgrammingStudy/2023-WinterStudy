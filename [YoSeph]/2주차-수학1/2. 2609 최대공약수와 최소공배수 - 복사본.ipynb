{
 "cells": [
  {
   "attachments": {},
   "cell_type": "markdown",
   "id": "44c3e7de",
   "metadata": {},
   "source": [
    "## 문제 https://www.acmicpc.net/problem/2609"
   ]
  },
  {
   "cell_type": "code",
   "execution_count": 1,
   "id": "7efd7865",
   "metadata": {},
   "outputs": [],
   "source": [
    "import sys\n",
    "\n",
    "def get_gcd(num_1, num_2):\n",
    "\n",
    "    if num_1 > num_2:\n",
    "        while num_2 > 0:\n",
    "            num_1, num_2 = num_2, num_1 % num_2\n",
    "    \n",
    "    elif num_1 == num_2: return num_1\n",
    "\n",
    "    else: return get_gcd(num_2, num_1)\n",
    "\n",
    "    return num_1\n",
    "\n",
    "def get_lcm(num_1, num_2):\n",
    "    return int((num_1 * num_2) // get_gcd(num_1, num_2))\n",
    "\n",
    "cmd = list(map(int, sys.stdin.readline().rstrip().split()))\n",
    "\n",
    "print(get_gcd(cmd[0], cmd[1]))\n",
    "print(get_lcm(cmd[0], cmd[1]))\n"
   ]
  },
  {
   "cell_type": "code",
   "execution_count": null,
   "id": "bb4497fd",
   "metadata": {},
   "outputs": [],
   "source": [
    "a, b = map(int, input().split())\n",
    "\n",
    "def gcd(a, b):\n",
    "    while b > 0:\n",
    "        a, b = b, a % b\n",
    "    return a\n",
    "\n",
    "def lcm(a, b):\n",
    "    return a * b // gcd(a, b)\n",
    "\n",
    "print(gcd(a, b))\n",
    "print(lcm(a, b))"
   ]
  }
 ],
 "metadata": {
  "kernelspec": {
   "display_name": "base",
   "language": "python",
   "name": "python3"
  },
  "language_info": {
   "codemirror_mode": {
    "name": "ipython",
    "version": 3
   },
   "file_extension": ".py",
   "mimetype": "text/x-python",
   "name": "python",
   "nbconvert_exporter": "python",
   "pygments_lexer": "ipython3",
   "version": "3.9.13 (main, Aug 25 2022, 23:51:50) [MSC v.1916 64 bit (AMD64)]"
  },
  "vscode": {
   "interpreter": {
    "hash": "dc15657baa3791f02810714a211f18176e06d4b1bb27fb33ca0c24e86185b93e"
   }
  }
 },
 "nbformat": 4,
 "nbformat_minor": 5
}
