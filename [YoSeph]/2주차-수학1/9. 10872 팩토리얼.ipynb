{
 "cells": [
  {
   "attachments": {},
   "cell_type": "markdown",
   "id": "44c3e7de",
   "metadata": {},
   "source": [
    "## 문제 https://www.acmicpc.net/problem/10872"
   ]
  },
  {
   "cell_type": "code",
   "execution_count": 1,
   "id": "7efd7865",
   "metadata": {},
   "outputs": [],
   "source": [
    "import sys\n",
    "\n",
    "cmd_num = int(sys.stdin.readline().rstrip())\n",
    "result = 1\n",
    "\n",
    "if cmd_num == 0 or cmd_num == 1:\n",
    "    print(1)\n",
    "\n",
    "else:\n",
    "    for i in range(cmd_num, 1, -1):\n",
    "        result *= i\n",
    "    \n",
    "    print(result)"
   ]
  },
  {
   "cell_type": "code",
   "execution_count": null,
   "id": "bb4497fd",
   "metadata": {},
   "outputs": [],
   "source": []
  },
  {
   "cell_type": "code",
   "execution_count": null,
   "id": "9c3fadc6",
   "metadata": {},
   "outputs": [],
   "source": []
  }
 ],
 "metadata": {
  "kernelspec": {
   "display_name": "base",
   "language": "python",
   "name": "python3"
  },
  "language_info": {
   "codemirror_mode": {
    "name": "ipython",
    "version": 3
   },
   "file_extension": ".py",
   "mimetype": "text/x-python",
   "name": "python",
   "nbconvert_exporter": "python",
   "pygments_lexer": "ipython3",
   "version": "3.9.13 (main, Aug 25 2022, 23:51:50) [MSC v.1916 64 bit (AMD64)]"
  },
  "vscode": {
   "interpreter": {
    "hash": "dc15657baa3791f02810714a211f18176e06d4b1bb27fb33ca0c24e86185b93e"
   }
  }
 },
 "nbformat": 4,
 "nbformat_minor": 5
}
