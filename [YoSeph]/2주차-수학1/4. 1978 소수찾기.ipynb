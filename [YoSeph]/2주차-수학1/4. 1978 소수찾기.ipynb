{
 "cells": [
  {
   "attachments": {},
   "cell_type": "markdown",
   "id": "44c3e7de",
   "metadata": {},
   "source": [
    "## 문제 https://www.acmicpc.net/problem/1978"
   ]
  },
  {
   "cell_type": "code",
   "execution_count": 1,
   "id": "7efd7865",
   "metadata": {},
   "outputs": [],
   "source": [
    "import sys\n",
    "\n",
    "cmd_num = int(sys.stdin.readline().rstrip())\n",
    "cmd = list(map(int,sys.stdin.readline().rstrip().split()))\n",
    "non_prime_number_list = []\n",
    "\n",
    "for num in cmd:\n",
    "    if num > 2:\n",
    "        for i in range(2, num):\n",
    "            if num % i == 0:\n",
    "                non_prime_number_list.append(num)\n",
    "                break\n",
    "    \n",
    "    else:\n",
    "        if num == 1: non_prime_number_list.append(num)\n",
    "    \n",
    "            \n",
    "print(cmd_num - len(non_prime_number_list))"
   ]
  },
  {
   "cell_type": "code",
   "execution_count": null,
   "id": "bb4497fd",
   "metadata": {},
   "outputs": [],
   "source": [
    "# 에라토스테네스의 채\n",
    "\n",
    "import sys\n",
    "\n",
    "cmd_num = int(sys.stdin.readline().rstrip())\n",
    "cmd = list(map(int,sys.stdin.readline().rstrip().split()))\n",
    "\n",
    "prime_cand_list = [False for _ in range(cmd[-1] + 1)]\n",
    "prime_count = 0\n",
    "\n",
    "for i in range(2, int(cmd[-1]) + 1):\n",
    "    if prime_cand_list[i] == False:\n",
    "        for j in range(i * 2, cmd[-1] + 1, i):\n",
    "            prime_cand_list[j] = True\n",
    "\n",
    "primt_number = [index for index, value in enumerate(prime_cand_list) if index >= 2 and value == False]\n",
    "\n",
    "\n",
    "for num in cmd:\n",
    "    if num in primt_number:\n",
    "        prime_count += 1\n",
    "\n",
    "print(prime_count)\n",
    "\n"
   ]
  }
 ],
 "metadata": {
  "kernelspec": {
   "display_name": "base",
   "language": "python",
   "name": "python3"
  },
  "language_info": {
   "codemirror_mode": {
    "name": "ipython",
    "version": 3
   },
   "file_extension": ".py",
   "mimetype": "text/x-python",
   "name": "python",
   "nbconvert_exporter": "python",
   "pygments_lexer": "ipython3",
   "version": "3.9.13 (main, Aug 25 2022, 23:51:50) [MSC v.1916 64 bit (AMD64)]"
  },
  "vscode": {
   "interpreter": {
    "hash": "dc15657baa3791f02810714a211f18176e06d4b1bb27fb33ca0c24e86185b93e"
   }
  }
 },
 "nbformat": 4,
 "nbformat_minor": 5
}
